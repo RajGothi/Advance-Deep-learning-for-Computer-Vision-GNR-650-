{
 "cells": [
  {
   "cell_type": "code",
   "execution_count": 1,
   "metadata": {
    "id": "j3uIepsIYzin"
   },
   "outputs": [],
   "source": [
    "#Importing Libraries\n",
    "\n",
    "import numpy as np\n",
    "import torch\n",
    "import torchvision\n",
    "import torchvision.transforms as transforms\n",
    "from torchvision.models import resnet18\n",
    "from torch.utils.data import DataLoader, Dataset\n",
    "from torch.nn import functional as F\n",
    "import matplotlib.pyplot as plt\n",
    "import os\n",
    "import itertools"
   ]
  },
  {
   "cell_type": "code",
   "execution_count": 2,
   "metadata": {
    "colab": {
     "base_uri": "https://localhost:8080/"
    },
    "id": "Uxx3on0jZZh3",
    "outputId": "d70dc29b-d566-4adc-9d69-7a6046e92b56"
   },
   "outputs": [
    {
     "data": {
      "text/plain": [
       "device(type='cuda', index=1)"
      ]
     },
     "execution_count": 2,
     "metadata": {},
     "output_type": "execute_result"
    }
   ],
   "source": [
    "#Check if GPU is available\n",
    "\n",
    "device = torch.device(\"cuda:1\" if torch.cuda.is_available() else \"cpu\")\n",
    "device"
   ]
  },
  {
   "cell_type": "code",
   "execution_count": 3,
   "metadata": {
    "colab": {
     "base_uri": "https://localhost:8080/"
    },
    "id": "pgH5MiyMZbWm",
    "outputId": "6e725cbb-d2cd-4758-9d4a-ebdfc863bda4"
   },
   "outputs": [
    {
     "name": "stdout",
     "output_type": "stream",
     "text": [
      "Files already downloaded and verified\n",
      "Files already downloaded and verified\n"
     ]
    }
   ],
   "source": [
    "#Downloading the data and resizing it such that it can be directly feeded to the model\n",
    "\n",
    "transform = transforms.Compose([\n",
    "    transforms.Resize((96, 96)),\n",
    "    transforms.ToTensor(),\n",
    "    transforms.Normalize(mean=[0.485, 0.456, 0.406],std=[0.229, 0.224, 0.225])\n",
    "])\n",
    "\n",
    "train_dataset = torchvision.datasets.CIFAR10(root='./data', train=True, download=True, transform=transform)\n",
    "train_loader = DataLoader(train_dataset, batch_size=64, shuffle=True)\n",
    "\n",
    "test_dataset = torchvision.datasets.CIFAR10(root='./data', train=False, download=True, transform=transform)\n",
    "test_loader = DataLoader(test_dataset, batch_size=64, shuffle=False)"
   ]
  },
  {
   "cell_type": "code",
   "execution_count": 4,
   "metadata": {
    "id": "yw3eKHmyZswl"
   },
   "outputs": [],
   "source": [
    "class PatchSSLModel(torch.nn.Module):\n",
    "    def __init__(self, num_classes):\n",
    "        super(PatchSSLModel, self).__init__()\n",
    "        self.resnet = resnet18(pretrained=False)\n",
    "        self.resnet.fc = torch.nn.Linear(self.resnet.fc.in_features, num_classes)\n",
    "\n",
    "    def forward(self, x):\n",
    "        return self.resnet(x)"
   ]
  },
  {
   "cell_type": "code",
   "execution_count": 5,
   "metadata": {
    "id": "9w_E1HerdCdM"
   },
   "outputs": [],
   "source": [
    "class RelativePatchDataset(Dataset):\n",
    "\n",
    "    RELATIVE_POSITIONS = {\n",
    "        (-1, -1): 0,\n",
    "        (-1, 0): 1,\n",
    "        (-1, 1): 2,\n",
    "        (0, -1): 3,\n",
    "        (0, 0): 4,\n",
    "        (0, 1): 5,\n",
    "        (1, -1): 6,\n",
    "        (1, 0): 7,\n",
    "        (1, 1): 8}\n",
    "\n",
    "    def __init__(self, base_dataset):\n",
    "        self.base_dataset = base_dataset\n",
    "\n",
    "    def __len__(self):\n",
    "        return len(self.base_dataset)\n",
    "\n",
    "    def pad_patch(self, patch):\n",
    "        padding_h = 32 - patch.shape[1]\n",
    "        padding_w = 32 - patch.shape[2]\n",
    "        return F.pad(patch, (padding_w//2, padding_w-padding_w//2, padding_h//2, padding_h-padding_h//2), 'reflect')\n",
    "\n",
    "    def __getitem__(self, idx):\n",
    "        image, _ = self.base_dataset[idx]\n",
    "\n",
    "        h, w = image.shape[1] // 3, image.shape[2] // 3\n",
    "\n",
    "        start_h = h\n",
    "        end_h = h * 2\n",
    "        start_w = w\n",
    "        end_w = w * 2\n",
    "\n",
    "        center_patch = image[:, start_h:end_h, start_w:end_w]\n",
    "\n",
    "        if center_patch.shape[1] != h or center_patch.shape[2] != w:\n",
    "            center_patch = self.pad_patch(center_patch)\n",
    "\n",
    "        relative_pos = list(self.RELATIVE_POSITIONS.keys())\n",
    "        relative_pos.remove((0, 0))\n",
    "        index = np.random.randint(0, len(relative_pos))\n",
    "        pos = relative_pos[index]\n",
    "\n",
    "        start_h += pos[0] * h\n",
    "        end_h += pos[0] * h\n",
    "        start_w += pos[1] * w\n",
    "        end_w += pos[1] * w\n",
    "\n",
    "        label = self.RELATIVE_POSITIONS[pos]\n",
    "        neighbor_patch = image[:, start_h:end_h, start_w:end_w]\n",
    "\n",
    "        if neighbor_patch.shape[1] != h or neighbor_patch.shape[2] != w:\n",
    "            neighbor_patch = self.pad_patch(neighbor_patch)\n",
    "\n",
    "        combined_image = torch.cat((center_patch, neighbor_patch), dim=2)\n",
    "\n",
    "        return combined_image,label"
   ]
  },
  {
   "cell_type": "code",
   "execution_count": 6,
   "metadata": {
    "id": "EIGh5bkA5Dq5"
   },
   "outputs": [],
   "source": [
    "def visualize_relative_patch(images,labels, num_images=5):\n",
    "    fig, axs = plt.subplots(num_images, 2, figsize=(4, 7))\n",
    "    for i in range(num_images):\n",
    "        for j in range(2):\n",
    "            patch = images[i, :, :, j*32:(j+1)*32].cpu().numpy()\n",
    "            if patch.size == 0:\n",
    "                continue\n",
    "            axs[i, j].imshow(np.transpose((patch * 0.5) + 0.5, (1, 2, 0)))\n",
    "            if j == 0:\n",
    "                axs[i, j].set_title(f\"Center Patch\")\n",
    "            else:\n",
    "                axs[i, j].set_title(f\"Relative Patch: {labels[i].item()}\")\n",
    "            axs[i, j].axis('off')\n",
    "    plt.tight_layout()\n",
    "    plt.show()"
   ]
  },
  {
   "cell_type": "code",
   "execution_count": 8,
   "metadata": {
    "colab": {
     "base_uri": "https://localhost:8080/"
    },
    "id": "_dzriHUt5FrQ",
    "outputId": "b949ae14-f41b-44d2-90f8-47fa51afc0ea"
   },
   "outputs": [
    {
     "name": "stderr",
     "output_type": "stream",
     "text": [
      "/home/raj/.conda/envs/raj/lib/python3.11/site-packages/torchvision/models/_utils.py:208: UserWarning: The parameter 'pretrained' is deprecated since 0.13 and may be removed in the future, please use 'weights' instead.\n",
      "  warnings.warn(\n",
      "/home/raj/.conda/envs/raj/lib/python3.11/site-packages/torchvision/models/_utils.py:223: UserWarning: Arguments other than a weight enum or `None` for 'weights' are deprecated since 0.13 and may be removed in the future. The current behavior is equivalent to passing `weights=None`.\n",
      "  warnings.warn(msg)\n"
     ]
    }
   ],
   "source": [
    "relative_patch_model = PatchSSLModel(num_classes=9).to(device)\n",
    "optimizer_relative = torch.optim.Adam(relative_patch_model.parameters(), lr=0.0005)"
   ]
  },
  {
   "cell_type": "code",
   "execution_count": 9,
   "metadata": {},
   "outputs": [],
   "source": [
    "from torch.utils.data import random_split\n",
    "val_size = 5000  # You can adjust this size as needed\n",
    "# Calculate the size of the training set (excluding the validation set)\n",
    "train_size = len(train_dataset) - val_size\n",
    "\n",
    "# Split the training dataset into training and validation sets\n",
    "train_set, val_set = random_split(train_dataset, [train_size, val_size])\n",
    "\n",
    "relative_patch_dataset = RelativePatchDataset(train_set)\n",
    "relative_patch_loader = DataLoader(relative_patch_dataset, batch_size=32, shuffle=True)\n",
    "\n",
    "relative_patch_dataset_dev = RelativePatchDataset(val_set)\n",
    "relative_patch_loader_dev = DataLoader(relative_patch_dataset, batch_size=32, shuffle=False)\n",
    "\n",
    "relative_patch_test_dataset = RelativePatchDataset(test_dataset)\n",
    "relative_patch_test_loader = DataLoader(relative_patch_test_dataset, shuffle=True)"
   ]
  },
  {
   "cell_type": "code",
   "execution_count": 14,
   "metadata": {
    "colab": {
     "base_uri": "https://localhost:8080/",
     "height": 707
    },
    "id": "pWxGpU1n5JJY",
    "outputId": "d687ed72-9e91-422c-80bc-fafa32b417b2"
   },
   "outputs": [
    {
     "name": "stderr",
     "output_type": "stream",
     "text": [
      "Clipping input data to the valid range for imshow with RGB data ([0..1] for floats or [0..255] for integers).\n",
      "Clipping input data to the valid range for imshow with RGB data ([0..1] for floats or [0..255] for integers).\n",
      "Clipping input data to the valid range for imshow with RGB data ([0..1] for floats or [0..255] for integers).\n",
      "Clipping input data to the valid range for imshow with RGB data ([0..1] for floats or [0..255] for integers).\n",
      "Clipping input data to the valid range for imshow with RGB data ([0..1] for floats or [0..255] for integers).\n",
      "Clipping input data to the valid range for imshow with RGB data ([0..1] for floats or [0..255] for integers).\n",
      "Clipping input data to the valid range for imshow with RGB data ([0..1] for floats or [0..255] for integers).\n",
      "Clipping input data to the valid range for imshow with RGB data ([0..1] for floats or [0..255] for integers).\n",
      "Clipping input data to the valid range for imshow with RGB data ([0..1] for floats or [0..255] for integers).\n",
      "Clipping input data to the valid range for imshow with RGB data ([0..1] for floats or [0..255] for integers).\n"
     ]
    },
    {
     "data": {
      "image/png": "[encoded data removed]",
      "text/plain": [
       "<Figure size 400x700 with 10 Axes>"
      ]
     },
     "metadata": {},
     "output_type": "display_data"
    }
   ],
   "source": [
    "images,sample_labels = next(iter(relative_patch_loader))\n",
    "visualize_relative_patch(images, sample_labels)"
   ]
  },
  {
   "cell_type": "code",
   "execution_count": 15,
   "metadata": {
    "id": "tS5rh0876JLC"
   },
   "outputs": [],
   "source": [
    "criterion = torch.nn.CrossEntropyLoss()"
   ]
  },
  {
   "cell_type": "code",
   "execution_count": 17,
   "metadata": {
    "colab": {
     "base_uri": "https://localhost:8080/"
    },
    "id": "CyvLlIRH5M7Z",
    "outputId": "a9f6f6e6-981e-4313-d3cf-ff06ccba682d"
   },
   "outputs": [
    {
     "name": "stdout",
     "output_type": "stream",
     "text": [
      "Epoch 1\n",
      "Training Accuracy: 50 %\n",
      "Validation Accuracy: 71 %\n",
      "\n",
      "Epoch 2\n",
      "Training Accuracy: 83 %\n",
      "Validation Accuracy: 92 %\n",
      "\n",
      "Epoch 3\n",
      "Training Accuracy: 94 %\n",
      "Validation Accuracy: 95 %\n",
      "\n",
      "Epoch 4\n",
      "Training Accuracy: 95 %\n",
      "Validation Accuracy: 96 %\n",
      "\n",
      "Epoch 5\n",
      "Training Accuracy: 96 %\n",
      "Validation Accuracy: 96 %\n",
      "\n",
      "Epoch 6\n",
      "Training Accuracy: 96 %\n",
      "Validation Accuracy: 97 %\n",
      "\n",
      "Epoch 7\n",
      "Training Accuracy: 97 %\n",
      "Validation Accuracy: 97 %\n",
      "\n",
      "Epoch 8\n",
      "Training Accuracy: 97 %\n",
      "Validation Accuracy: 97 %\n",
      "\n",
      "Epoch 9\n",
      "Training Accuracy: 97 %\n",
      "Validation Accuracy: 98 %\n",
      "\n",
      "Epoch 10\n",
      "Training Accuracy: 98 %\n",
      "Validation Accuracy: 97 %\n",
      "\n"
     ]
    }
   ],
   "source": [
    "#Training the model\n",
    "\n",
    "for epoch in range(1, 11):\n",
    "    relative_patch_model.train()\n",
    "    correct = 0\n",
    "    total = 0\n",
    "    print (\"Epoch %d\" % epoch)\n",
    "    for images,labels in relative_patch_loader:\n",
    "        images, labels = images.to(device),labels.to(device)\n",
    "        optimizer_relative.zero_grad()\n",
    "        outputs = relative_patch_model(images)\n",
    "        loss = criterion(outputs, labels)\n",
    "        loss.backward()\n",
    "        optimizer_relative.step()\n",
    "        _, predicted = torch.max(outputs, 1)\n",
    "        total += labels.size(0)\n",
    "        correct += (predicted == labels).sum().item()\n",
    "    print('Training Accuracy: %d %%' % (100 * correct / total))\n",
    "\n",
    "    correct = 0\n",
    "    total = 0\n",
    "    relative_patch_model.eval()\n",
    "    for images, labels in relative_patch_loader_dev:\n",
    "        images, labels = images.to(device),labels.to(device)\n",
    "        outputs = relative_patch_model(images)\n",
    "        loss = criterion(outputs, labels)\n",
    "        _, predicted = torch.max(outputs, 1)\n",
    "        total += labels.size(0)\n",
    "        correct += (predicted == labels).sum().item()\n",
    "    print('Validation Accuracy: %d %%' % (100 * correct / total))\n",
    "\n",
    "    print()"
   ]
  },
  {
   "cell_type": "code",
   "execution_count": 18,
   "metadata": {},
   "outputs": [
    {
     "name": "stdout",
     "output_type": "stream",
     "text": [
      "Test Accuracy: 97 %\n"
     ]
    }
   ],
   "source": [
    "correct = 0\n",
    "total = 0\n",
    "relative_patch_model.eval()\n",
    "for images, labels in relative_patch_test_loader:\n",
    "    images,  labels = images.to(device), labels.to(device)\n",
    "    outputs = relative_patch_model(images)\n",
    "    loss = criterion(outputs, labels)\n",
    "    _, predicted = torch.max(outputs, 1)\n",
    "    total += labels.size(0)\n",
    "    correct += (predicted == labels).sum().item()\n",
    "print('Test Accuracy: %d %%' % (100 * correct / total))\n"
   ]
  },
  {
   "cell_type": "code",
   "execution_count": 19,
   "metadata": {},
   "outputs": [],
   "source": [
    "torch.save(relative_patch_model.state_dict(),'Model/patch_prediction_SSL.pt')"
   ]
  },
  {
   "cell_type": "code",
   "execution_count": 21,
   "metadata": {},
   "outputs": [
    {
     "name": "stderr",
     "output_type": "stream",
     "text": [
      "/home/raj/.conda/envs/raj/lib/python3.11/site-packages/torchvision/models/_utils.py:208: UserWarning: The parameter 'pretrained' is deprecated since 0.13 and may be removed in the future, please use 'weights' instead.\n",
      "  warnings.warn(\n",
      "/home/raj/.conda/envs/raj/lib/python3.11/site-packages/torchvision/models/_utils.py:223: UserWarning: Arguments other than a weight enum or `None` for 'weights' are deprecated since 0.13 and may be removed in the future. The current behavior is equivalent to passing `weights=None`.\n",
      "  warnings.warn(msg)\n"
     ]
    }
   ],
   "source": [
    "downstream_model = PatchSSLModel(num_classes=9).to(device)\n",
    "\n",
    "# downstream_model.resnet = relative_patch_model.resnet\n",
    "\n",
    "checkpoint = torch.load(\"Model/patch_prediction_SSL.pt\")\n",
    "\n",
    "new_checkpoint = {}\n",
    "\n",
    "# Iterate through the keys in the loaded checkpoint\n",
    "for key, value in checkpoint.items():\n",
    "    # Modify the key to match the existing model's module name\n",
    "    new_key = key.replace('module.', '')  # Remove 'module.' prefix if it exists\n",
    "    new_checkpoint[new_key] = value\n",
    "\n",
    "downstream_model.load_state_dict(new_checkpoint)\n",
    "downstream_model.resnet.fc = torch.nn.Linear(512,10)"
   ]
  },
  {
   "cell_type": "code",
   "execution_count": 22,
   "metadata": {
    "id": "JMozOYDD6Cec"
   },
   "outputs": [],
   "source": [
    "downstream_model.to(device)\n",
    "optimizer_downstream = torch.optim.Adam(downstream_model.parameters(), lr=0.001)"
   ]
  },
  {
   "cell_type": "code",
   "execution_count": 23,
   "metadata": {},
   "outputs": [
    {
     "name": "stdout",
     "output_type": "stream",
     "text": [
      "Files already downloaded and verified\n",
      "Files already downloaded and verified\n"
     ]
    }
   ],
   "source": [
    "transform = transforms.Compose([\n",
    "    transforms.Resize((32, 32)),\n",
    "    transforms.ToTensor(),\n",
    "    transforms.Normalize(mean=[0.485, 0.456, 0.406],std=[0.229, 0.224, 0.225])\n",
    "])\n",
    "\n",
    "train_dataset = torchvision.datasets.CIFAR10(root='./data', train=True, download=True, transform=transform)\n",
    "test_dataset = torchvision.datasets.CIFAR10(root='./data', train=False, download=True, transform=transform)\n",
    "\n",
    "val_size = 5000  # You can adjust this size as needed\n",
    "# Calculate the size of the training set (excluding the validation set)\n",
    "train_size = len(train_dataset) - val_size\n",
    "\n",
    "# Split the training dataset into training and validation sets\n",
    "train_set, val_set = random_split(train_dataset, [train_size, val_size])\n",
    "\n",
    "train_loader = DataLoader(train_set, batch_size=64, shuffle=True)\n",
    "val_loader = DataLoader(val_set, batch_size=64, shuffle=False)\n",
    "test_loader = DataLoader(test_dataset, batch_size=64, shuffle=False)"
   ]
  },
  {
   "cell_type": "code",
   "execution_count": 26,
   "metadata": {
    "id": "LwbAkzLVLlCU"
   },
   "outputs": [
    {
     "name": "stdout",
     "output_type": "stream",
     "text": [
      "Epoch 1\n",
      "Training Accuracy Downstream: 46 %\n",
      "Validation Accuracy Downstream: 55 %\n",
      "\n",
      "Epoch 2\n",
      "Training Accuracy Downstream: 62 %\n",
      "Validation Accuracy Downstream: 63 %\n",
      "\n",
      "Epoch 3\n",
      "Training Accuracy Downstream: 69 %\n",
      "Validation Accuracy Downstream: 66 %\n",
      "\n",
      "Epoch 4\n",
      "Training Accuracy Downstream: 73 %\n",
      "Validation Accuracy Downstream: 70 %\n",
      "\n",
      "Epoch 5\n",
      "Training Accuracy Downstream: 77 %\n",
      "Validation Accuracy Downstream: 70 %\n",
      "\n",
      "Epoch 6\n",
      "Training Accuracy Downstream: 80 %\n",
      "Validation Accuracy Downstream: 71 %\n",
      "\n",
      "Epoch 7\n",
      "Training Accuracy Downstream: 84 %\n",
      "Validation Accuracy Downstream: 73 %\n",
      "\n",
      "Epoch 8\n",
      "Training Accuracy Downstream: 87 %\n",
      "Validation Accuracy Downstream: 73 %\n",
      "\n",
      "Epoch 9\n",
      "Training Accuracy Downstream: 89 %\n",
      "Validation Accuracy Downstream: 73 %\n",
      "\n",
      "Epoch 10\n",
      "Training Accuracy Downstream: 91 %\n",
      "Validation Accuracy Downstream: 74 %\n",
      "\n"
     ]
    }
   ],
   "source": [
    "for epoch in range(1,11):  # Train for 10 epochs or as needed\n",
    "    correct = 0\n",
    "    total = 0\n",
    "    print (\"Epoch %d\" % epoch)\n",
    "    downstream_model.train()\n",
    "    for images, labels in train_loader:\n",
    "        images, labels = images.to(device), labels.to(device)\n",
    "\n",
    "        optimizer_downstream.zero_grad()\n",
    "        outputs = downstream_model(images)\n",
    "        loss = criterion(outputs, labels)\n",
    "        loss.backward()\n",
    "        optimizer_downstream.step()\n",
    "        _, predicted = torch.max(outputs, 1)\n",
    "        total += labels.size(0)\n",
    "        correct += (predicted == labels).sum().item()\n",
    "    print('Training Accuracy Downstream: %d %%' % (100 * correct / total))\n",
    "\n",
    "    correct = 0\n",
    "    total = 0\n",
    "    downstream_model.eval()\n",
    "    for images, labels in val_loader:\n",
    "        images, labels = images.to(device), labels.to(device)\n",
    "        outputs = downstream_model(images)\n",
    "        loss = criterion(outputs, labels)\n",
    "        _, predicted = torch.max(outputs, 1)\n",
    "        total += labels.size(0)\n",
    "        correct += (predicted == labels).sum().item()\n",
    "    print('Validation Accuracy Downstream: %d %%' % (100 * correct / total))\n",
    "    print()"
   ]
  },
  {
   "cell_type": "code",
   "execution_count": 27,
   "metadata": {},
   "outputs": [
    {
     "name": "stdout",
     "output_type": "stream",
     "text": [
      "Test Accuracy Downstream: 74 %\n"
     ]
    }
   ],
   "source": [
    "correct = 0\n",
    "total = 0\n",
    "for images, labels in test_loader:\n",
    "  images, labels = images.to(device), labels.to(device)\n",
    "  outputs = downstream_model(images)\n",
    "  _, predicted = torch.max(outputs, 1)\n",
    "  total += labels.size(0)\n",
    "  correct += (predicted == labels).sum().item()\n",
    "print('Test Accuracy Downstream: %d %%' % (100 * correct / total))"
   ]
  },
  {
   "cell_type": "code",
   "execution_count": 33,
   "metadata": {},
   "outputs": [],
   "source": [
    "relative_patch_model.eval()\n",
    "class GradCAM:\n",
    "    def __init__(self, model, target_layer):\n",
    "        self.model = model\n",
    "        self.target_layer = target_layer\n",
    "        self.gradients = None\n",
    "        self.h = []\n",
    "        self.h.append(self.target_layer.register_backward_hook(self.save_gradients))\n",
    "\n",
    "    def save_gradients(self, module, grad_in, grad_out):\n",
    "        self.gradients = grad_out[0]\n",
    "\n",
    "    def __call__(self, inputs, class_idx=None):\n",
    "        outputs = self.model(inputs)\n",
    "        if class_idx is None:\n",
    "            class_idx = torch.argmax(outputs).item()\n",
    "        self.model.zero_grad()\n",
    "        one_hot = torch.zeros((1, outputs.size()[-1]), dtype=torch.float32).to(device)\n",
    "        one_hot[0][class_idx] = 1\n",
    "        outputs.backward(gradient=one_hot, retain_graph=True)\n",
    "        activations = self.target_layer.forward(inputs)\n",
    "        weights = torch.mean(self.gradients, dim=(2, 3), keepdim=True)\n",
    "        grad_cam_map = torch.sum(weights * activations, dim=1, keepdim=True)\n",
    "        grad_cam_map = F.relu(grad_cam_map)\n",
    "        grad_cam_map = F.interpolate(grad_cam_map, size=(inputs.size(2), inputs.size(3)), mode='bilinear', align_corners=False)\n",
    "        for h in self.h:\n",
    "            h.remove()\n",
    "        return grad_cam_map\n"
   ]
  },
  {
   "cell_type": "code",
   "execution_count": 34,
   "metadata": {},
   "outputs": [],
   "source": [
    "#Visualizing gradcam\n",
    "\n",
    "def visualize_gradcam(img, mask):\n",
    "    heatmap = (mask - mask.min()) / (mask.max() - mask.min())\n",
    "    heatmap = np.uint8(255 * heatmap)\n",
    "    heatmap = np.transpose(heatmap, (1, 2, 0))\n",
    "    heatmap = np.squeeze(heatmap)\n",
    "\n",
    "    img = img * 0.5 + 0.5\n",
    "    img = np.uint8(255 * img)\n",
    "    img = np.transpose(img, (1, 2, 0))\n",
    "\n",
    "    plt.imshow(img)\n",
    "    plt.imshow(heatmap, alpha=0.6, cmap='jet')\n",
    "    plt.show()"
   ]
  },
  {
   "cell_type": "code",
   "execution_count": 35,
   "metadata": {},
   "outputs": [],
   "source": [
    "#Visualising the original image\n",
    "\n",
    "def visualize_image(img, mask):\n",
    "    heatmap = (mask - mask.min()) / (mask.max() - mask.min())\n",
    "    heatmap = np.uint8(255 * heatmap)\n",
    "    heatmap = np.transpose(heatmap, (1, 2, 0))\n",
    "    heatmap = np.squeeze(heatmap)\n",
    "\n",
    "    img = img * 0.5 + 0.5\n",
    "    img = np.uint8(255 * img)\n",
    "    img = np.transpose(img, (1, 2, 0))\n",
    "\n",
    "    plt.imshow(img)\n",
    "    plt.show()"
   ]
  },
  {
   "cell_type": "code",
   "execution_count": 39,
   "metadata": {},
   "outputs": [
    {
     "data": {
      "image/png": "[encoded data removed]",
      "text/plain": [
       "<Figure size 640x480 with 1 Axes>"
      ]
     },
     "metadata": {},
     "output_type": "display_data"
    },
    {
     "data": {
      "image/png": "[encoded data removed]",
      "text/plain": [
       "<Figure size 640x480 with 1 Axes>"
      ]
     },
     "metadata": {},
     "output_type": "display_data"
    }
   ],
   "source": [
    "#Calling functions to randomly see the image and corresponding gradcam\n",
    "\n",
    "sample_imgs, _ = next(iter(test_loader))\n",
    "sample_img = sample_imgs[0].unsqueeze(0).to(device)\n",
    "\n",
    "sample_imgs, _ = next(iter(test_loader))\n",
    "sample_img = sample_imgs[0].unsqueeze(0).to(device)\n",
    "\n",
    "model_to_visualize = relative_patch_model\n",
    "target_layer = model_to_visualize.resnet.conv1\n",
    "grad_cam = GradCAM(model_to_visualize, target_layer)\n",
    "\n",
    "heatmap = grad_cam(sample_img)\n",
    "heatmap = heatmap.cpu().data.numpy()\n",
    "\n",
    "visualize_image(sample_img.cpu().data.numpy()[0], heatmap[0])\n",
    "visualize_gradcam(sample_img.cpu().data.numpy()[0], heatmap[0])"
   ]
  },
  {
   "cell_type": "code",
   "execution_count": null,
   "metadata": {},
   "outputs": [],
   "source": []
  }
 ],
 "metadata": {
  "accelerator": "GPU",
  "colab": {
   "gpuType": "T4",
   "provenance": []
  },
  "kernelspec": {
   "display_name": "raj",
   "language": "python",
   "name": "python3"
  },
  "language_info": {
   "codemirror_mode": {
    "name": "ipython",
    "version": 3
   },
   "file_extension": ".py",
   "mimetype": "text/x-python",
   "name": "python",
   "nbconvert_exporter": "python",
   "pygments_lexer": "ipython3",
   "version": "3.11.3"
  }
 },
 "nbformat": 4,
 "nbformat_minor": 1
}
