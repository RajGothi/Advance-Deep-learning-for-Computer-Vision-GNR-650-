{
 "cells": [
  {
   "cell_type": "code",
   "execution_count": 1,
   "metadata": {},
   "outputs": [],
   "source": [
    "import itertools\n",
    "import random\n",
    "\n",
    "import numpy as np\n",
    "\n",
    "from scipy.spatial.distance import hamming\n",
    "\n",
    "\n",
    "# Build list of all possible permutations\n",
    "random.seed(42)\n",
    "permuts_list = list(itertools.permutations(range(9)))\n",
    "permuts_array = np.array(permuts_list)\n",
    "no_permuts = len(permuts_list)\n",
    "\n",
    "\n",
    "# Take top x permutations which have max average hamming distance"
   ]
  },
  {
   "cell_type": "code",
   "execution_count": 2,
   "metadata": {},
   "outputs": [
    {
     "name": "stdout",
     "output_type": "stream",
     "text": [
      "Already performed count of iterations with pairs of jigsaw permutations 100\n",
      "Length of set of taken:  68\n",
      "Already performed count of iterations with pairs of jigsaw permutations 200\n",
      "Length of set of taken:  130\n",
      "Already performed count of iterations with pairs of jigsaw permutations 300\n",
      "Length of set of taken:  190\n",
      "Already performed count of iterations with pairs of jigsaw permutations 400\n",
      "Length of set of taken:  264\n",
      "Already performed count of iterations with pairs of jigsaw permutations 500\n",
      "Length of set of taken:  338\n",
      "Already performed count of iterations with pairs of jigsaw permutations 600\n",
      "Length of set of taken:  402\n",
      "Already performed count of iterations with pairs of jigsaw permutations 700\n",
      "Length of set of taken:  472\n",
      "Already performed count of iterations with pairs of jigsaw permutations 800\n",
      "Length of set of taken:  534\n",
      "Already performed count of iterations with pairs of jigsaw permutations 900\n",
      "Length of set of taken:  608\n",
      "Already performed count of iterations with pairs of jigsaw permutations 1000\n",
      "Length of set of taken:  690\n",
      "Already performed count of iterations with pairs of jigsaw permutations 1100\n",
      "Length of set of taken:  758\n",
      "Already performed count of iterations with pairs of jigsaw permutations 1200\n",
      "Length of set of taken:  834\n",
      "Already performed count of iterations with pairs of jigsaw permutations 1300\n",
      "Length of set of taken:  906\n",
      "Already performed count of iterations with pairs of jigsaw permutations 1400\n",
      "Length of set of taken:  992\n",
      "No of iterations it took to build top - 1000 permutations array = 1411\n",
      "No of permutations 1000\n"
     ]
    }
   ],
   "source": [
    "permuts_to_take = 1000\n",
    "set_of_taken = set()\n",
    "cnt_iterations = 0\n",
    "while True:\n",
    "    cnt_iterations += 1\n",
    "    x = random.randint(1, no_permuts - 1)\n",
    "    y = random.randint(1, no_permuts - 1)\n",
    "    permut_1 = permuts_array[x]\n",
    "    permut_2 = permuts_array[y]\n",
    "    hd = hamming(permut_1, permut_2)\n",
    "\n",
    "    if hd > 0.9 and (not x in set_of_taken) and (not y in set_of_taken):\n",
    "        set_of_taken.add(x)\n",
    "        set_of_taken.add(y)\n",
    "\n",
    "        if len(set_of_taken) == permuts_to_take:\n",
    "            break\n",
    "\n",
    "    if cnt_iterations % 100 == 0:\n",
    "        print (\"Already performed count of iterations with pairs of jigsaw permutations\", cnt_iterations)\n",
    "        print (\"Length of set of taken: \",len(set_of_taken))\n",
    "\n",
    "print (\"No of iterations it took to build top - {} permutations array = {}\".format(permuts_to_take, cnt_iterations))\n",
    "print (\"No of permutations\", len(set_of_taken))"
   ]
  },
  {
   "cell_type": "code",
   "execution_count": 22,
   "metadata": {},
   "outputs": [
    {
     "data": {
      "text/plain": [
       "1.0"
      ]
     },
     "execution_count": 22,
     "metadata": {},
     "output_type": "execute_result"
    }
   ],
   "source": [
    "hd = hamming([3,2,1],[1,3,2])\n",
    "hd"
   ]
  },
  {
   "cell_type": "code",
   "execution_count": 3,
   "metadata": {},
   "outputs": [
    {
     "name": "stdout",
     "output_type": "stream",
     "text": [
      "Sample permutation 0\n",
      "[2 5 7 0 4 1 3 6 8]\n",
      "Sample permutation 1\n",
      "[5 3 8 1 2 0 7 4 6]\n",
      "Sample permutation 2\n",
      "[2 3 4 0 1 5 8 6 7]\n",
      "Sample permutation 3\n",
      "[0 1 7 6 2 8 5 3 4]\n",
      "Sample permutation 4\n",
      "[0 5 8 1 7 2 6 4 3]\n",
      "Sample permutation 5\n",
      "[8 1 0 2 6 7 4 3 5]\n",
      "Sample permutation 6\n",
      "[4 6 7 3 1 5 8 0 2]\n",
      "Sample permutation 7\n",
      "[1 8 6 7 4 5 2 3 0]\n",
      "Sample permutation 8\n",
      "[4 8 6 5 3 2 1 0 7]\n",
      "Sample permutation 9\n",
      "[8 4 5 6 2 1 0 3 7]\n"
     ]
    }
   ],
   "source": [
    "# Build the array for selected permutation indices above\n",
    "selected_permuts = []\n",
    "for ind, perm_id in enumerate(set_of_taken):\n",
    "    if ind < 10:\n",
    "        print (\"Sample permutation {}\".format(ind))\n",
    "        print (permuts_array[perm_id])\n",
    "    selected_permuts.append(permuts_array[perm_id])\n",
    "\n",
    "selected_permuts = np.array(selected_permuts)\n",
    "np.save('selected_permuts.npy', selected_permuts)"
   ]
  },
  {
   "cell_type": "code",
   "execution_count": null,
   "metadata": {},
   "outputs": [],
   "source": []
  }
 ],
 "metadata": {
  "kernelspec": {
   "display_name": "raj",
   "language": "python",
   "name": "python3"
  },
  "language_info": {
   "codemirror_mode": {
    "name": "ipython",
    "version": 3
   },
   "file_extension": ".py",
   "mimetype": "text/x-python",
   "name": "python",
   "nbconvert_exporter": "python",
   "pygments_lexer": "ipython3",
   "version": "3.11.3"
  }
 },
 "nbformat": 4,
 "nbformat_minor": 2
}
